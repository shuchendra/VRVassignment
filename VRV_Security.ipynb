{
  "nbformat": 4,
  "nbformat_minor": 0,
  "metadata": {
    "colab": {
      "provenance": []
    },
    "kernelspec": {
      "name": "python3",
      "display_name": "Python 3"
    },
    "language_info": {
      "name": "python"
    }
  },
  "cells": [
    {
      "cell_type": "code",
      "execution_count": 16,
      "metadata": {
        "id": "F7VuCKGauTlx"
      },
      "outputs": [],
      "source": [
        "# This is output file where all the outputs will be written in the requested format\n",
        "OUTPUT_FILE = \"log_analysis_results.csv\"\n"
      ]
    },
    {
      "cell_type": "code",
      "source": [
        "import re\n",
        "from collections import Counter\n",
        "\n",
        "# Using a regular Expression to extract all the IPs present in the file\n",
        "ip_pattern = r'\\b(?:\\d{1,3}\\.){3}\\d{1,3}\\b'\n",
        "\n",
        "# Maintaining a counter to keep track of their occurences\n",
        "ip_counts = Counter()\n",
        "\n",
        "with open(\"Sample.log\", \"r\") as file:\n",
        "    for line in file:\n",
        "        # Find all IP addresses in the line\n",
        "        ips = re.findall(ip_pattern, line)\n",
        "        # Update the counter with found IPs\n",
        "        ip_counts.update(ips)\n",
        "\n",
        "# Sorting to display in Descending Order\n",
        "sorted_ips = sorted(ip_counts.items(), reverse=True)\n",
        "\n",
        "for ip, count in sorted_ips:\n",
        "    print(f\"{ip}: {count}\")\n"
      ],
      "metadata": {
        "colab": {
          "base_uri": "https://localhost:8080/"
        },
        "id": "qh4tj0v2vJN7",
        "outputId": "28cd698f-7d7f-45e1-d47e-e046e710b84f"
      },
      "execution_count": 12,
      "outputs": [
        {
          "output_type": "stream",
          "name": "stdout",
          "text": [
            "203.0.113.5: 8\n",
            "198.51.100.23: 8\n",
            "192.168.1.100: 5\n",
            "192.168.1.1: 7\n",
            "10.0.0.2: 6\n"
          ]
        }
      ]
    },
    {
      "cell_type": "code",
      "source": [
        "# Regular Exp to extract endpoints from the file\n",
        "endpoint_pattern = r'\"(GET|POST|PUT|DELETE|PATCH)\\s+(\\S+)\\s+HTTP/\\d\\.\\d\"'\n",
        "\n",
        "# Counter to keep track of the most frequent endpoint\n",
        "endpoint_counts = Counter()\n",
        "\n",
        "with open(\"Sample.log\", \"r\") as file:\n",
        "    for line in file:\n",
        "        # Searching for endpoints using the above String RE\n",
        "        match = re.search(endpoint_pattern, line)\n",
        "        if match:\n",
        "            endpoint = match.group(2)  # Extract the URL/resource path\n",
        "            endpoint_counts[endpoint] += 1\n",
        "\n",
        "# Find the most frequently accessed endpoint\n",
        "most_frequent_endpoint = max(endpoint_counts.items(), key=lambda x: x[1])\n",
        "\n",
        "# Display the results\n",
        "print(\"Most Frequently Accessed Endpoint:\")\n",
        "print(f\"Endpoint: {most_frequent_endpoint[0]}\")\n",
        "print(f\"Access Count: {most_frequent_endpoint[1]}\")"
      ],
      "metadata": {
        "colab": {
          "base_uri": "https://localhost:8080/"
        },
        "id": "fiS93tviwh9r",
        "outputId": "3620c63f-b738-4258-ea03-dd9787bca956"
      },
      "execution_count": 13,
      "outputs": [
        {
          "output_type": "stream",
          "name": "stdout",
          "text": [
            "Most Frequently Accessed Endpoint:\n",
            "Endpoint: /login\n",
            "Access Count: 13\n"
          ]
        }
      ]
    },
    {
      "cell_type": "code",
      "source": [
        "FAILED_LOGIN_THRESHOLD = 5  # Set the threshold for suspicious activity\n",
        "                    # The threshold can be altered based on our requirements\n",
        "\n",
        "# Patterns to identify failed login attempts and extract IP addresses\n",
        "failed_login_pattern = r'\"(?:GET|POST|PUT|DELETE|PATCH)\\s+\\S+\\s+HTTP/\\d\\.\\d\"\\s+401'  # HTTP 401 status code\n",
        "failed_logins = Counter()\n",
        "\n",
        "# Read the log file and detect failed logins\n",
        "with open(\"Sample.log\", \"r\") as file:\n",
        "    for line in file:\n",
        "        if re.search(failed_login_pattern, line):\n",
        "            ip_match = re.search(ip_pattern, line)\n",
        "            if ip_match:\n",
        "                ip = ip_match.group()  # Extract the IP address\n",
        "                failed_logins[ip] += 1\n",
        "\n",
        "# Filter IPs exceeding the failed login threshold\n",
        "suspicious_ips = {ip: count for ip, count in failed_logins.items() if count > FAILED_LOGIN_THRESHOLD}\n",
        "\n",
        "# Display the results\n",
        "if suspicious_ips:\n",
        "    print(\"Suspicious Activity Detected:\")\n",
        "    print(f\"{'IP Address':<20} {'Failed Login Attempts':<5}\")\n",
        "    print(\"-\" * 30)\n",
        "    for ip, count in suspicious_ips.items():\n",
        "        print(f\"{ip:<20} {count:<5}\")\n",
        "else:\n",
        "    print(\"No suspicious activity detected.\")"
      ],
      "metadata": {
        "colab": {
          "base_uri": "https://localhost:8080/"
        },
        "id": "1ROPqpM5xE52",
        "outputId": "f4171db5-ca59-447a-dac1-714e76b7c552"
      },
      "execution_count": 14,
      "outputs": [
        {
          "output_type": "stream",
          "name": "stdout",
          "text": [
            "Suspicious Activity Detected:\n",
            "IP Address           Failed Login Attempts\n",
            "------------------------------\n",
            "203.0.113.5          8    \n"
          ]
        }
      ]
    },
    {
      "cell_type": "code",
      "source": [
        "import csv\n",
        "with open(OUTPUT_FILE, \"w\", newline=\"\") as csvfile:\n",
        "    csv_writer = csv.writer(csvfile)\n",
        "\n",
        "    # Write Requests per IP\n",
        "    csv_writer.writerow([\"Requests per IP\"])\n",
        "    csv_writer.writerow([\"IP Address\", \"Request Count\"])\n",
        "    for ip, count in ip_counts.items():\n",
        "        csv_writer.writerow([ip, count])\n",
        "\n",
        "    # Write Most Accessed Endpoint\n",
        "    csv_writer.writerow([])\n",
        "    csv_writer.writerow([\"Most Accessed Endpoint\"])\n",
        "    csv_writer.writerow([\"Endpoint\", \"Access Count\"])\n",
        "    csv_writer.writerow([most_frequent_endpoint[0],most_frequent_endpoint[1]])\n",
        "\n",
        "    # Write Suspicious Activity\n",
        "    csv_writer.writerow([])\n",
        "    csv_writer.writerow([\"Suspicious Activity\"])\n",
        "    csv_writer.writerow([\"IP Address\", \"Failed Login Count\"])\n",
        "    for ip, count in suspicious_ips.items():\n",
        "        csv_writer.writerow([ip, count])\n"
      ],
      "metadata": {
        "id": "7j_lc4kPxcO3"
      },
      "execution_count": 21,
      "outputs": []
    },
    {
      "cell_type": "code",
      "source": [
        "from google.colab import files  # For Google Colab\n",
        "\n",
        "# Ensure the file is created by running the main script first\n",
        "files.download(\"log_analysis_results.csv\")"
      ],
      "metadata": {
        "colab": {
          "base_uri": "https://localhost:8080/",
          "height": 17
        },
        "id": "OMRgnUDjzNhA",
        "outputId": "7b42f9f0-71de-4b55-c8f4-32dc6d00eb06"
      },
      "execution_count": 22,
      "outputs": [
        {
          "output_type": "display_data",
          "data": {
            "text/plain": [
              "<IPython.core.display.Javascript object>"
            ],
            "application/javascript": [
              "\n",
              "    async function download(id, filename, size) {\n",
              "      if (!google.colab.kernel.accessAllowed) {\n",
              "        return;\n",
              "      }\n",
              "      const div = document.createElement('div');\n",
              "      const label = document.createElement('label');\n",
              "      label.textContent = `Downloading \"${filename}\": `;\n",
              "      div.appendChild(label);\n",
              "      const progress = document.createElement('progress');\n",
              "      progress.max = size;\n",
              "      div.appendChild(progress);\n",
              "      document.body.appendChild(div);\n",
              "\n",
              "      const buffers = [];\n",
              "      let downloaded = 0;\n",
              "\n",
              "      const channel = await google.colab.kernel.comms.open(id);\n",
              "      // Send a message to notify the kernel that we're ready.\n",
              "      channel.send({})\n",
              "\n",
              "      for await (const message of channel.messages) {\n",
              "        // Send a message to notify the kernel that we're ready.\n",
              "        channel.send({})\n",
              "        if (message.buffers) {\n",
              "          for (const buffer of message.buffers) {\n",
              "            buffers.push(buffer);\n",
              "            downloaded += buffer.byteLength;\n",
              "            progress.value = downloaded;\n",
              "          }\n",
              "        }\n",
              "      }\n",
              "      const blob = new Blob(buffers, {type: 'application/binary'});\n",
              "      const a = document.createElement('a');\n",
              "      a.href = window.URL.createObjectURL(blob);\n",
              "      a.download = filename;\n",
              "      div.appendChild(a);\n",
              "      a.click();\n",
              "      div.remove();\n",
              "    }\n",
              "  "
            ]
          },
          "metadata": {}
        },
        {
          "output_type": "display_data",
          "data": {
            "text/plain": [
              "<IPython.core.display.Javascript object>"
            ],
            "application/javascript": [
              "download(\"download_903e0753-9df4-4327-9e51-8502384f909c\", \"log_analysis_results.csv\", 248)"
            ]
          },
          "metadata": {}
        }
      ]
    }
  ]
}